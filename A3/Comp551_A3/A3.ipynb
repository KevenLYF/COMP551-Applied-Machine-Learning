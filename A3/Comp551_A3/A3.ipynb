{
 "cells": [
  {
   "cell_type": "markdown",
   "metadata": {
    "collapsed": true
   },
   "source": [
    "# Assignment 3"
   ]
  },
  {
   "cell_type": "markdown",
   "metadata": {},
   "source": [
    "Yufei Liu 260561054"
   ]
  },
  {
   "cell_type": "code",
   "execution_count": 20,
   "metadata": {},
   "outputs": [],
   "source": [
    "from pathlib import Path\n",
    "import string\n",
    "import collections\n",
    "import csv\n",
    "import numpy as np\n",
    "import matplotlib.pyplot as plt\n",
    "from sklearn.dummy import DummyClassifier\n",
    "from sklearn import metrics\n",
    "from sklearn.naive_bayes import BernoulliNB\n",
    "from sklearn.tree import DecisionTreeClassifier\n",
    "from sklearn.model_selection import GridSearchCV\n",
    "from sklearn.svm import LinearSVC\n",
    "from sklearn.naive_bayes import GaussianNB\n",
    "import warnings; warnings.simplefilter('ignore')\n",
    "\n",
    "TOP = 10000"
   ]
  },
  {
   "cell_type": "markdown",
   "metadata": {},
   "source": [
    "## Question 1"
   ]
  },
  {
   "cell_type": "markdown",
   "metadata": {},
   "source": [
    "Pre-processing data"
   ]
  },
  {
   "cell_type": "code",
   "execution_count": 3,
   "metadata": {},
   "outputs": [],
   "source": [
    "def preprocessing(dataset):\n",
    "    translator=str.maketrans(string.punctuation, ' '*len(string.punctuation))\n",
    "    filepath = Path(dataset)\n",
    "    text = filepath.read_text()\n",
    "    text = text.translate(translator).lower()\n",
    "    return text"
   ]
  },
  {
   "cell_type": "markdown",
   "metadata": {},
   "source": [
    "Generate vocabulary datasets"
   ]
  },
  {
   "cell_type": "code",
   "execution_count": 4,
   "metadata": {},
   "outputs": [],
   "source": [
    "def genVocabFile(source, target):\n",
    "    dataset = preprocessing(source)\n",
    "    freqwords = collections.Counter()\n",
    "    for reviews in dataset.splitlines():\n",
    "        words = reviews.split()[:-1]\n",
    "        freqwords.update(words)\n",
    "    freqwords = freqwords.most_common(TOP)\n",
    "    with open(target, \"w\", newline='') as textfile:\n",
    "        writer = csv.writer(textfile, delimiter='\\t', quotechar='|', quoting=csv.QUOTE_MINIMAL)\n",
    "        for i in range(len(freqwords)):\n",
    "            writer.writerow([freqwords[i][0], i + 1, freqwords[i][1]])\n",
    "\n",
    "def genVocab(source):\n",
    "    dataset = preprocessing(source)\n",
    "    freqwords = collections.Counter()\n",
    "    for reviews in dataset.splitlines():\n",
    "        words = reviews.split()[:-1]\n",
    "        freqwords.update(words)\n",
    "    freqwords = freqwords.most_common(TOP)\n",
    "    vocab = {}\n",
    "    for i in range(len(freqwords)):\n",
    "        vocab[freqwords[i][0]] = (i + 1, freqwords[i][1])\n",
    "    return vocab"
   ]
  },
  {
   "cell_type": "markdown",
   "metadata": {},
   "source": [
    "Generate review ID datasets"
   ]
  },
  {
   "cell_type": "code",
   "execution_count": 5,
   "metadata": {},
   "outputs": [],
   "source": [
    "def buildIDFile(source, vocab, target):\n",
    "    dataset = preprocessing(source)\n",
    "    reviewByID = []\n",
    "    count = 0\n",
    "    for reviews in dataset.splitlines():\n",
    "        if (len(reviews) == 0):\n",
    "            continue\n",
    "        words = reviews.split()\n",
    "        if not (words[-1].isdigit()):\n",
    "            continue\n",
    "        score = int(words[len(words) - 1])\n",
    "        row = []\n",
    "        for i in range(len(words) - 1):\n",
    "            id = vocab.get(words[i], -1)\n",
    "            if (id != -1):\n",
    "                row.append(id[0])\n",
    "        if (len(row) > 0):\n",
    "            row.append(score)\n",
    "            reviewByID.append(row)\n",
    "    with open(target, \"w\", newline='') as textfile:\n",
    "        writer = csv.writer(textfile, delimiter=' ')\n",
    "        for i in range(len(reviewByID)):\n",
    "            row = []\n",
    "            score = reviewByID[i][-1]\n",
    "            for j in range(len(reviewByID[i]) - 1):\n",
    "                row.append(reviewByID[i][j])\n",
    "            row.append('\\t' + str(score))\n",
    "            writer.writerow(row)"
   ]
  },
  {
   "cell_type": "code",
   "execution_count": 6,
   "metadata": {},
   "outputs": [],
   "source": [
    "# yelpVocab = genVocab(\"hwk3_datasets/yelp-train.txt\")\n",
    "# imdbVocab = genVocab(\"hwk3_datasets/IMDB-train.txt\")\n",
    "\n",
    "# genVocabFile(\"hwk3_datasets/yelp-train.txt\", \"output_datasets/yelp-vocab.txt\")\n",
    "# buildIDFile(\"hwk3_datasets/yelp-train.txt\", yelpVocab, \"output_datasets/yelp-train.txt\")\n",
    "# buildIDFile(\"hwk3_datasets/yelp-test.txt\", yelpVocab, \"output_datasets/yelp-test.txt\")\n",
    "# buildIDFile(\"hwk3_datasets/yelp-valid.txt\", yelpVocab, \"output_datasets/yelp-valid.txt\")\n",
    "#\n",
    "# genVocabFile(\"hwk3_datasets/IMDB-train.txt\", \"output_datasets/IMDB-vocab.txt\")\n",
    "# buildIDFile(\"hwk3_datasets/IMDB-train.txt\", imdbVocab, \"output_datasets/IMDB-train.txt\")\n",
    "# buildIDFile(\"hwk3_datasets/IMDB-test.txt\", imdbVocab, \"output_datasets/IMDB-test.txt\")\n",
    "# buildIDFile(\"hwk3_datasets/IMDB-valid.txt\", imdbVocab, \"output_datasets/IMDB-valid.txt\")"
   ]
  },
  {
   "cell_type": "markdown",
   "metadata": {},
   "source": [
    "Read reviews and ratings from the generated datasets"
   ]
  },
  {
   "cell_type": "code",
   "execution_count": 7,
   "metadata": {},
   "outputs": [],
   "source": [
    "def getReviews(datapath):\n",
    "    review = []\n",
    "    scores = []\n",
    "    filepath = Path(datapath)\n",
    "    text = filepath.read_text()\n",
    "    for comments in text.splitlines():\n",
    "        row = []\n",
    "        IDs = comments.split()[:-1]\n",
    "        score = comments.split()[-1]\n",
    "        for i in range(len(IDs)):\n",
    "            row.append(int(IDs[i]))\n",
    "        review.append(row)\n",
    "        scores.append(score)\n",
    "\n",
    "    return (review, scores)"
   ]
  },
  {
   "cell_type": "markdown",
   "metadata": {},
   "source": [
    "Build binary bag of words, which creates a 10000 dimension vector for each review in a file"
   ]
  },
  {
   "cell_type": "code",
   "execution_count": 8,
   "metadata": {},
   "outputs": [],
   "source": [
    "def buildBinaryBOW(reviewsID):\n",
    "    fVector = []\n",
    "    for i in range(len(reviewsID)):\n",
    "        row = [0] * TOP\n",
    "        uniqueSet = set()\n",
    "        for j in range(len(reviewsID[i])):\n",
    "            pos = reviewsID[i][j]\n",
    "            if pos in uniqueSet:\n",
    "                continue\n",
    "            row[pos] = 1\n",
    "            uniqueSet.add(pos)\n",
    "        fVector.append(row)\n",
    "    return fVector"
   ]
  },
  {
   "cell_type": "markdown",
   "metadata": {},
   "source": [
    "Build frequency bag of words, the value in a feature vector would be the occurance frequency of that word. The values of a feature vectore sum to 1"
   ]
  },
  {
   "cell_type": "code",
   "execution_count": 9,
   "metadata": {},
   "outputs": [],
   "source": [
    "def buildFreqBOW(reviewsID):\n",
    "    fVector = []\n",
    "    for i in range(len(reviewsID)):\n",
    "        uniqueSet = set()\n",
    "        row = [0] * TOP\n",
    "        for j in range(len(reviewsID[i])):\n",
    "            pos = reviewsID[i][j]\n",
    "            if pos in uniqueSet:\n",
    "                continue\n",
    "            count = reviewsID[i].count(pos)\n",
    "            row[pos] = count/len(reviewsID[i])\n",
    "            uniqueSet.add(pos)\n",
    "        fVector.append(row)\n",
    "    return fVector"
   ]
  },
  {
   "cell_type": "markdown",
   "metadata": {},
   "source": [
    "# Question 2"
   ]
  },
  {
   "cell_type": "markdown",
   "metadata": {},
   "source": [
    "Two baseline classifiers by using scikit-learn DummyClassifier"
   ]
  },
  {
   "cell_type": "code",
   "execution_count": 40,
   "metadata": {},
   "outputs": [],
   "source": [
    "def randomClf(X_train, y_train, X_test, y_test):\n",
    "    clf_uniform = DummyClassifier(strategy='uniform')\n",
    "    clf_uniform.fit(X_train, y_train)\n",
    "    predict_uniform = []\n",
    "    for i in range(len(X_test)):\n",
    "        res_uniform = clf_uniform.predict([X_test[i]])\n",
    "        predict_uniform.append(res_uniform)\n",
    "    print('Uniform Random F1 Measure = ' + str(metrics.f1_score(y_test, predict_uniform, average='micro')))\n",
    "\n",
    "def majorityClf(X_train, y_train, X_test, y_test):\n",
    "    clf_mostFreq = DummyClassifier(strategy='most_frequent')\n",
    "    clf_mostFreq.fit(X_train, y_train)\n",
    "    predict_mostFreq = []\n",
    "    for i in range(len(X_test)):\n",
    "        res_mostFreq = clf_mostFreq.predict([X_test[i]])\n",
    "        predict_mostFreq.append(res_mostFreq)\n",
    "    print('Majority Class F1 Measure = ' + str(metrics.f1_score(y_test, predict_mostFreq, average='micro')))"
   ]
  },
  {
   "cell_type": "markdown",
   "metadata": {},
   "source": [
    "Prepare for trainning and testing data"
   ]
  },
  {
   "cell_type": "code",
   "execution_count": 25,
   "metadata": {},
   "outputs": [],
   "source": [
    "trainReviews = getReviews(\"output_datasets/yelp-train.txt\")\n",
    "trainX = buildBinaryBOW(trainReviews[0])\n",
    "trainY = trainReviews[1]\n",
    "\n",
    "validReviews = getReviews(\"output_datasets/yelp-valid.txt\")\n",
    "validX = buildBinaryBOW(validReviews[0])\n",
    "validY = validReviews[1]\n",
    "\n",
    "testReviews = getReviews(\"output_datasets/yelp-test.txt\")\n",
    "testX = buildBinaryBOW(testReviews[0])\n",
    "testY = testReviews[1]"
   ]
  },
  {
   "cell_type": "code",
   "execution_count": 11,
   "metadata": {},
   "outputs": [
    {
     "name": "stdout",
     "output_type": "stream",
     "text": [
      "Uniform Random F1 Measure = 0.2095\n",
      "Majority Class F1 Measure = 0.351\n"
     ]
    }
   ],
   "source": [
    "randomClf(trainX, trainY, testX, testY)\n",
    "majorityClf(trainX, trainY, testX, testY)"
   ]
  },
  {
   "cell_type": "markdown",
   "metadata": {},
   "source": [
    "Ploting function to visualize the training process, to be used later"
   ]
  },
  {
   "cell_type": "code",
   "execution_count": 11,
   "metadata": {},
   "outputs": [],
   "source": [
    "def plotTrainningProcess(dataset):\n",
    "    a = np.array(dataset,dtype='float')\n",
    "    a = np.transpose(a)\n",
    "    plt.plot(a[1], a[0], 'ro')\n",
    "    plt.title('Finding Hyper Parameter')\n",
    "    plt.xlabel('Hyper Parameter')\n",
    "    plt.ylabel('F1 Measure')\n",
    "    plt.show()"
   ]
  },
  {
   "cell_type": "markdown",
   "metadata": {},
   "source": [
    "### Bernoulli Naive Bayes"
   ]
  },
  {
   "cell_type": "code",
   "execution_count": 30,
   "metadata": {},
   "outputs": [],
   "source": [
    "def BernoulliNativeBayes(X_train, y_train, X_test, y_test, a):\n",
    "    clf = BernoulliNB(alpha=a)\n",
    "    clf.fit(X_train, y_train)\n",
    "    predict = []\n",
    "    for i in range(len(X_test)):\n",
    "        res = clf.predict([X_test[i]])\n",
    "        predict.append(res)\n",
    "    f1 = metrics.f1_score(y_test, predict, average='micro')\n",
    "    return f1"
   ]
  },
  {
   "cell_type": "markdown",
   "metadata": {},
   "source": [
    "Function for finding the best smoothing parameter alpha"
   ]
  },
  {
   "cell_type": "code",
   "execution_count": 34,
   "metadata": {},
   "outputs": [],
   "source": [
    "def findAlpha_BNB(X_train, y_train, X_test, y_test):\n",
    "    a = 1.0\n",
    "    best_alpha = 1.0\n",
    "    best_f1 = 0\n",
    "    hyperP = []\n",
    "    for i in range(25):\n",
    "        f1 = BernoulliNativeBayes(X_train, y_train, X_test, y_test, a)\n",
    "        hyperP.append([f1, a])\n",
    "        if (f1 > best_f1):\n",
    "            best_f1 = f1\n",
    "            best_alpha = a\n",
    "        a *= 0.8\n",
    "    hyperP.sort()\n",
    "    plotTrainningProcess(hyperP)\n",
    "    print(\"The best smoothing parameter alpha = {} \\n F1 measure  = {}\".format(best_alpha, best_f1))"
   ]
  },
  {
   "cell_type": "markdown",
   "metadata": {},
   "source": [
    "Finding the best alpha"
   ]
  },
  {
   "cell_type": "code",
   "execution_count": 15,
   "metadata": {
    "scrolled": true
   },
   "outputs": [
    {
     "data": {
      "image/png": "[encoded data removed]",
      "text/plain": [
       "<Figure size 432x288 with 1 Axes>"
      ]
     },
     "metadata": {
      "needs_background": "light"
     },
     "output_type": "display_data"
    },
    {
     "name": "stdout",
     "output_type": "stream",
     "text": [
      "The best smoothing parameter alpha = 0.009223372036854787 \n",
      " F1 measure  = 0.421\n"
     ]
    }
   ],
   "source": [
    "findAlpha_BNB(trainX, trainY, validX, validY)"
   ]
  },
  {
   "cell_type": "markdown",
   "metadata": {},
   "source": [
    "Apply the best alpha and predit the test dataset with alpha = 0.009223372036854787 "
   ]
  },
  {
   "cell_type": "code",
   "execution_count": 16,
   "metadata": {},
   "outputs": [
    {
     "name": "stdout",
     "output_type": "stream",
     "text": [
      "(BBOW) Training F1 Measure of Bernoulli NB with best hyper-parameter = 0.7382857142857144\n",
      "(BBOW) Validation F1 Measure of Bernoulli NB with best hyper-parameter = 0.421\n",
      "(BBOW) Testing F1 Measure of Bernoulli NB with best hyper-parameter = 0.4455\n"
     ]
    }
   ],
   "source": [
    "BBOW_F1_BNB_train = BernoulliNativeBayes(trainX, trainY, trainX, trainY, 0.009223372036854787)\n",
    "print(\"(BBOW) Training F1 Measure of Bernoulli NB with best hyper-parameter = {}\".format(BBOW_F1_BNB_train))\n",
    "BBOW_F1_BNB_valid = BernoulliNativeBayes(trainX, trainY, validX, validY, 0.009223372036854787)\n",
    "print(\"(BBOW) Validation F1 Measure of Bernoulli NB with best hyper-parameter = {}\".format(BBOW_F1_BNB_valid))\n",
    "BBOW_F1_BNB_test = BernoulliNativeBayes(trainX, trainY, testX, testY, 0.009223372036854787)\n",
    "print(\"(BBOW) Testing F1 Measure of Bernoulli NB with best hyper-parameter = {}\".format(BBOW_F1_BNB_test))"
   ]
  },
  {
   "cell_type": "markdown",
   "metadata": {},
   "source": [
    "### Decision Tree"
   ]
  },
  {
   "cell_type": "code",
   "execution_count": 13,
   "metadata": {
    "scrolled": true
   },
   "outputs": [],
   "source": [
    "def decisionTree(X_train, y_train, X_test, y_test, min_sample, maxDepth):\n",
    "    clf = DecisionTreeClassifier(min_samples_split=min_sample, max_depth=maxDepth)\n",
    "    clf.fit(X_train, y_train)\n",
    "    predict = []\n",
    "    for i in range(len(X_test)):\n",
    "        res = clf.predict([X_test[i]])\n",
    "        predict.append(res)\n",
    "    f1 = metrics.f1_score(y_test, predict, average='micro')\n",
    "    return f1"
   ]
  },
  {
   "cell_type": "markdown",
   "metadata": {},
   "source": [
    "Finding hyper parameter"
   ]
  },
  {
   "cell_type": "code",
   "execution_count": 45,
   "metadata": {},
   "outputs": [],
   "source": [
    "def findHyperP_DT(X_train, y_train, X_test, y_test):\n",
    "    best_f1 = 0\n",
    "    best_max = 1\n",
    "    best_min_sample = 1.0\n",
    "    max_depth = 1\n",
    "    for i in range(6, 12):\n",
    "        min_sample_split = 0.49\n",
    "        for i in range(10):\n",
    "            f1 = decisionTree(X_train, y_train, X_test, y_test, min_sample_split, max_depth)\n",
    "            if (f1 > best_f1):\n",
    "                best_f1 = f1\n",
    "                best_min_sample = min_sample_split\n",
    "                best_max = max_depth\n",
    "            min_sample_split *= 0.7\n",
    "        max_depth += 1\n",
    "    print(\"The best F1 measure  = {} \\nmax_depth = {} \\nmin_sample_split = {}\".format(best_f1, best_max, best_min_sample))"
   ]
  },
  {
   "cell_type": "code",
   "execution_count": 19,
   "metadata": {
    "scrolled": true
   },
   "outputs": [
    {
     "name": "stdout",
     "output_type": "stream",
     "text": [
      "The best F1 measure  = 0.418 \n",
      "max_depth = 10 \n",
      "min_sample_split = 0.04035360699999998\n"
     ]
    }
   ],
   "source": [
    "findHyperP_DT(trainX, trainY, validX, validY)"
   ]
  },
  {
   "cell_type": "markdown",
   "metadata": {},
   "source": [
    "Apply the best max_depth and min_sample_split on the test set with max_depth = 10 and min_sample_split = 0.04035360699999998"
   ]
  },
  {
   "cell_type": "code",
   "execution_count": 20,
   "metadata": {},
   "outputs": [
    {
     "name": "stdout",
     "output_type": "stream",
     "text": [
      "(BBOW) Training F1 Measure of Decision Tree with best hyper-parameter = 0.46514285714285714\n",
      "(BBOW) Validation F1 Measure of Decision Tree with best hyper-parameter = 0.418\n",
      "(BBOW) Testing F1 Measure of Decision Tree with best hyper-parameter = 0.418\n"
     ]
    }
   ],
   "source": [
    "BBOW_F1_DT_train = decisionTree(trainX, trainY, trainX, trainY, 0.04035360699999998, 10)\n",
    "print(\"(BBOW) Training F1 Measure of Decision Tree with best hyper-parameter = {}\".format(BBOW_F1_DT_train))\n",
    "BBOW_F1_DT_valid = decisionTree(trainX, trainY, validX, validY, 0.04035360699999998, 10)\n",
    "print(\"(BBOW) Validation F1 Measure of Decision Tree with best hyper-parameter = {}\".format(BBOW_F1_DT_valid))\n",
    "BBOW_F1_DT_test = decisionTree(trainX, trainY, testX, testY, 0.04035360699999998, 10)\n",
    "print(\"(BBOW) Testing F1 Measure of Decision Tree with best hyper-parameter = {}\".format(BBOW_F1_DT_test))"
   ]
  },
  {
   "cell_type": "markdown",
   "metadata": {},
   "source": [
    "### Linear SVM"
   ]
  },
  {
   "cell_type": "code",
   "execution_count": 15,
   "metadata": {},
   "outputs": [],
   "source": [
    "def linearSVM(X_train, y_train, X_test, y_test, C, dual):\n",
    "    clf = LinearSVC(C=C,dual=dual)\n",
    "    clf.fit(X_train, y_train)\n",
    "    predict = []\n",
    "    for i in range(len(X_test)):\n",
    "        res = clf.predict([X_test[i]])\n",
    "        predict.append(res)\n",
    "    f1 = metrics.f1_score(y_test, predict, average='micro')\n",
    "    return f1"
   ]
  },
  {
   "cell_type": "markdown",
   "metadata": {},
   "source": [
    "Finding hyper parameter"
   ]
  },
  {
   "cell_type": "code",
   "execution_count": 26,
   "metadata": {},
   "outputs": [
    {
     "name": "stdout",
     "output_type": "stream",
     "text": [
      "The F1 measure = 0.513 \n",
      "C = 0.009223372036854787\n",
      "Dual = False\n"
     ]
    }
   ],
   "source": [
    "c = 1.0\n",
    "best_f1 = 0\n",
    "bestC = 1.0\n",
    "best_dual = False\n",
    "for i in range(25):\n",
    "    dual = False\n",
    "    f1 = linearSVM(trainX, trainY, validX, validY,c, dual)\n",
    "    if (f1 > best_f1):\n",
    "        best_f1 = f1\n",
    "        bestC = c\n",
    "        best_dual = dual\n",
    "    dual = True\n",
    "    f1 = linearSVM(trainX, trainY, validX, validY, c, dual)\n",
    "    if (f1 > best_f1):\n",
    "        best_f1 = f1\n",
    "        bestC = c\n",
    "        best_dual = dual\n",
    "    c *= 0.8\n",
    "\n",
    "print(\"The F1 measure = {} \\nC = {}\\nDual = {}\".format(best_f1, bestC, best_dual))"
   ]
  },
  {
   "cell_type": "markdown",
   "metadata": {},
   "source": [
    "Apply the best hyper parameters with C = 0.009223372036854787 and dual = False"
   ]
  },
  {
   "cell_type": "code",
   "execution_count": 23,
   "metadata": {},
   "outputs": [
    {
     "name": "stdout",
     "output_type": "stream",
     "text": [
      "(BBOW) Training F1 Measure of Linear SVM with best hyper-parameter = 0.8435714285714284\n",
      "(BBOW) Validation F1 Measure of Linear SVM with best hyper-parameter = 0.513\n",
      "(BBOW) Testing F1 Measure of Linear SVM with best hyper-parameter = 0.5085\n"
     ]
    }
   ],
   "source": [
    "BBOW_F1_SVM_train = linearSVM(trainX, trainY, trainX, trainY, 0.009223372036854787, False)\n",
    "print(\"(BBOW) Training F1 Measure of Linear SVM with best hyper-parameter = {}\".format(BBOW_F1_SVM_train))\n",
    "BBOW_F1_SVM_valid = linearSVM(trainX, trainY, validX, validY, 0.009223372036854787, False)\n",
    "print(\"(BBOW) Validation F1 Measure of Linear SVM with best hyper-parameter = {}\".format(BBOW_F1_SVM_valid))\n",
    "BBOW_F1_SVM_test = linearSVM(trainX, trainY, testX, testY, 0.009223372036854787, False)\n",
    "print(\"(BBOW) Testing F1 Measure of Linear SVM with best hyper-parameter = {}\".format(BBOW_F1_SVM_test))"
   ]
  },
  {
   "cell_type": "markdown",
   "metadata": {},
   "source": [
    "## Question 3"
   ]
  },
  {
   "cell_type": "markdown",
   "metadata": {},
   "source": [
    "Now we use frequency bag of word"
   ]
  },
  {
   "cell_type": "code",
   "execution_count": 16,
   "metadata": {},
   "outputs": [],
   "source": [
    "trainReviews = getReviews(\"output_datasets/yelp-train.txt\")\n",
    "trainX = buildFreqBOW(trainReviews[0])\n",
    "trainY = trainReviews[1]\n",
    "\n",
    "validReviews = getReviews(\"output_datasets/yelp-valid.txt\")\n",
    "validX = buildFreqBOW(validReviews[0])\n",
    "validY = validReviews[1]\n",
    "\n",
    "testReviews = getReviews(\"output_datasets/yelp-test.txt\")\n",
    "testX = buildFreqBOW(testReviews[0])\n",
    "testY = testReviews[1]"
   ]
  },
  {
   "cell_type": "markdown",
   "metadata": {},
   "source": [
    "### Gaussian Native Bayes"
   ]
  },
  {
   "cell_type": "code",
   "execution_count": 17,
   "metadata": {},
   "outputs": [],
   "source": [
    "def GaussianNativeBayes(X_train, y_train, X_test, y_test):\n",
    "    clf = GaussianNB()\n",
    "    clf.fit(X_train, y_train)\n",
    "    predict = []\n",
    "    for i in range(len(X_test)):\n",
    "        res = clf.predict([X_test[i]])\n",
    "        predict.append(res)\n",
    "    f1 = metrics.f1_score(y_test, predict, average='micro')\n",
    "    return f1"
   ]
  },
  {
   "cell_type": "code",
   "execution_count": 26,
   "metadata": {},
   "outputs": [
    {
     "name": "stdout",
     "output_type": "stream",
     "text": [
      "(FBOW) Training F1 Measure of Gaussian NB = 0.8014285714285714\n",
      "(FBOW) Validation F1 Measure of Gaussian NB = 0.3\n",
      "(FBOW) Testing F1 Measure of Gaussian NB = 0.312\n"
     ]
    }
   ],
   "source": [
    "FBOW_F1_GNB_train = GaussianNativeBayes(trainX, trainY, trainX, trainY)\n",
    "print(\"(FBOW) Training F1 Measure of Gaussian NB = {}\".format(FBOW_F1_GNB_train))\n",
    "FBOW_F1_GNB_valid = GaussianNativeBayes(trainX, trainY, validX, validY)\n",
    "print(\"(FBOW) Validation F1 Measure of Gaussian NB = {}\".format(FBOW_F1_GNB_valid))\n",
    "FBOW_F1_GNB_test = GaussianNativeBayes(trainX, trainY, testX, testY)\n",
    "print(\"(FBOW) Testing F1 Measure of Gaussian NB = {}\".format(FBOW_F1_GNB_test))"
   ]
  },
  {
   "cell_type": "markdown",
   "metadata": {},
   "source": [
    "### Decision Tree"
   ]
  },
  {
   "cell_type": "code",
   "execution_count": 30,
   "metadata": {},
   "outputs": [
    {
     "name": "stdout",
     "output_type": "stream",
     "text": [
      "The best F1 measure  = 0.408 \n",
      "max_depth = 8 \n",
      "min_sample_split = 0.006782230728489994\n"
     ]
    }
   ],
   "source": [
    "findHyperP_DT(trainX, trainY, validX, validY)"
   ]
  },
  {
   "cell_type": "markdown",
   "metadata": {},
   "source": [
    "Apply the best min_sample_split on the test set with min_sample_split = 0.006782230728489994 and max_depth = 8 "
   ]
  },
  {
   "cell_type": "code",
   "execution_count": 18,
   "metadata": {
    "scrolled": true
   },
   "outputs": [
    {
     "name": "stdout",
     "output_type": "stream",
     "text": [
      "(FBOW) Training F1 Measure of Decision Tree with best hyper-parameter = 0.48414285714285715\n",
      "(FBOW) Validation F1 Measure of Decision Tree with best hyper-parameter = 0.408\n",
      "(FBOW) Testing F1 Measure of Decision Tree with best hyper-parameter = 0.416\n"
     ]
    }
   ],
   "source": [
    "FBOW_F1_DT_train = decisionTree(trainX, trainY, trainX, trainY, 0.006782230728489994, 8)\n",
    "print(\"(FBOW) Training F1 Measure of Decision Tree with best hyper-parameter = {}\".format(FBOW_F1_DT_train))\n",
    "FBOW_F1_DT_valid = decisionTree(trainX, trainY, validX, validY, 0.006782230728489994, 8)\n",
    "print(\"(FBOW) Validation F1 Measure of Decision Tree with best hyper-parameter = {}\".format(FBOW_F1_DT_valid))\n",
    "FBOW_F1_DT_test = decisionTree(trainX, trainY, testX, testY, 0.006782230728489994, 8)\n",
    "print(\"(FBOW) Testing F1 Measure of Decision Tree with best hyper-parameter = {}\".format(FBOW_F1_DT_test))"
   ]
  },
  {
   "cell_type": "markdown",
   "metadata": {},
   "source": [
    "### Linear SVM"
   ]
  },
  {
   "cell_type": "code",
   "execution_count": 22,
   "metadata": {},
   "outputs": [
    {
     "name": "stdout",
     "output_type": "stream",
     "text": [
      "The F1 measure = 0.508 \n",
      "C = 12.839184645488634\n",
      "Dual = False\n"
     ]
    }
   ],
   "source": [
    "c = 1.0\n",
    "best_f1 = 0\n",
    "bestC = 1.0\n",
    "best_dual = False\n",
    "for i in range(30):\n",
    "    dual = False\n",
    "    f1 = linearSVM(trainX, trainY, validX, validY,c, dual)\n",
    "    if (f1 > best_f1):\n",
    "        best_f1 = f1\n",
    "        bestC = c\n",
    "        best_dual = dual\n",
    "    dual = True\n",
    "    f1 = linearSVM(trainX, trainY, validX, validY, c, dual)\n",
    "    if (f1 > best_f1):\n",
    "        best_f1 = f1\n",
    "        bestC = c\n",
    "        best_dual = dual\n",
    "    c *= 1.2\n",
    "\n",
    "print(\"The F1 measure = {} \\nC = {}\\nDual = {}\".format(best_f1, bestC, best_dual))"
   ]
  },
  {
   "cell_type": "markdown",
   "metadata": {},
   "source": [
    "Apply the best hyper parameters with C = 12.839184645488634 and dual = False"
   ]
  },
  {
   "cell_type": "code",
   "execution_count": 24,
   "metadata": {},
   "outputs": [
    {
     "name": "stdout",
     "output_type": "stream",
     "text": [
      "(FBOW) Training F1 Measure of Linear SVM with best hyper-parameter = 0.6847142857142857\n",
      "(FBOW) Validation F1 Measure of Linear SVM with best hyper-parameter = 0.508\n",
      "(FBOW) Testing F1 Measure of Linear SVM with best hyper-parameter = 0.508\n"
     ]
    }
   ],
   "source": [
    "FBOW_F1_SVM_train = linearSVM(trainX, trainY, trainX, trainY, 12.839184645488634, False)\n",
    "print(\"(FBOW) Training F1 Measure of Linear SVM with best hyper-parameter = {}\".format(FBOW_F1_SVM_train))\n",
    "FBOW_F1_SVM_valid = linearSVM(trainX, trainY, validX, validY, 12.839184645488634, False)\n",
    "print(\"(FBOW) Validation F1 Measure of Linear SVM with best hyper-parameter = {}\".format(FBOW_F1_SVM_valid))\n",
    "FBOW_F1_SVM_test = linearSVM(trainX, trainY, testX, testY, 12.839184645488634, False)\n",
    "print(\"(FBOW) Testing F1 Measure of Linear SVM with best hyper-parameter = {}\".format(FBOW_F1_SVM_test))"
   ]
  },
  {
   "cell_type": "markdown",
   "metadata": {},
   "source": [
    "## Question 4"
   ]
  },
  {
   "cell_type": "markdown",
   "metadata": {},
   "source": [
    "Now we use IMDB dataset with binary bag of word"
   ]
  },
  {
   "cell_type": "code",
   "execution_count": 41,
   "metadata": {},
   "outputs": [],
   "source": [
    "trainReviews = getReviews(\"output_datasets/IMDB-train.txt\")\n",
    "trainX = buildBinaryBOW(trainReviews[0])\n",
    "trainY = trainReviews[1]\n",
    "\n",
    "validReviews = getReviews(\"output_datasets/IMDB-valid.txt\")\n",
    "validX = buildBinaryBOW(validReviews[0])\n",
    "validY = validReviews[1]\n",
    "\n",
    "testReviews = getReviews(\"output_datasets/IMDB-test.txt\")\n",
    "testX = buildBinaryBOW(testReviews[0])\n",
    "testY = testReviews[1]"
   ]
  },
  {
   "cell_type": "markdown",
   "metadata": {},
   "source": [
    "#### Base line classifier"
   ]
  },
  {
   "cell_type": "code",
   "execution_count": 42,
   "metadata": {},
   "outputs": [
    {
     "name": "stdout",
     "output_type": "stream",
     "text": [
      "Uniform Random F1 Measure = 0.12429988798207713\n"
     ]
    }
   ],
   "source": [
    "randomClf(trainX, trainY, testX, testY)"
   ]
  },
  {
   "cell_type": "markdown",
   "metadata": {},
   "source": [
    "### Bernoulli Naive Bayes"
   ]
  },
  {
   "cell_type": "code",
   "execution_count": 31,
   "metadata": {},
   "outputs": [
    {
     "data": {
      "image/png": "[encoded data removed]",
      "text/plain": [
       "<Figure size 432x288 with 1 Axes>"
      ]
     },
     "metadata": {
      "needs_background": "light"
     },
     "output_type": "display_data"
    },
    {
     "name": "stdout",
     "output_type": "stream",
     "text": [
      "The best smoothing parameter alpha = 0.08589934592000005 \n",
      " F1 measure  = 0.8438312337532493\n"
     ]
    }
   ],
   "source": [
    "findAlpha_BNB(trainX, trainY, validX, validY)"
   ]
  },
  {
   "cell_type": "markdown",
   "metadata": {},
   "source": [
    "Apply the best alpha and predit the test dataset with alpha = 0.08589934592000005 "
   ]
  },
  {
   "cell_type": "code",
   "execution_count": 37,
   "metadata": {},
   "outputs": [
    {
     "name": "stdout",
     "output_type": "stream",
     "text": [
      "(BBOW) Training F1 Measure of Bernoulli NB with best hyper-parameter = 0.8686929280810505\n",
      "(BBOW) Validation F1 Measure of Bernoulli NB with best hyper-parameter = 0.8438312337532493\n",
      "(BBOW) Testing F1 Measure of Bernoulli NB with best hyper-parameter = 0.8284925588094095\n"
     ]
    }
   ],
   "source": [
    "BBOW_F1_BNB_train = BernoulliNativeBayes(trainX, trainY, trainX, trainY, 0.08589934592000005)\n",
    "print(\"(BBOW) Training F1 Measure of Bernoulli NB with best hyper-parameter = {}\".format(BBOW_F1_BNB_train))\n",
    "BBOW_F1_BNB_valid = BernoulliNativeBayes(trainX, trainY, validX, validY, 0.08589934592000005)\n",
    "print(\"(BBOW) Validation F1 Measure of Bernoulli NB with best hyper-parameter = {}\".format(BBOW_F1_BNB_valid))\n",
    "BBOW_F1_BNB_test = BernoulliNativeBayes(trainX, trainY, testX, testY, 0.08589934592000005)\n",
    "print(\"(BBOW) Testing F1 Measure of Bernoulli NB with best hyper-parameter = {}\".format(BBOW_F1_BNB_test))"
   ]
  },
  {
   "cell_type": "markdown",
   "metadata": {},
   "source": [
    "### Decision Tree"
   ]
  },
  {
   "cell_type": "code",
   "execution_count": 46,
   "metadata": {},
   "outputs": [
    {
     "name": "stdout",
     "output_type": "stream",
     "text": [
      "The best F1 measure  = 0.6959608078384323 \n",
      "max_depth = 6 \n",
      "min_sample_split = 0.040353606999999986\n"
     ]
    }
   ],
   "source": [
    "findHyperP_DT(trainX, trainY, validX, validY)"
   ]
  },
  {
   "cell_type": "markdown",
   "metadata": {},
   "source": [
    "Apply the best max_depth and min_sample_split on the test set with max_depth = 6 and min_sample_split = 0.04035360699999998"
   ]
  },
  {
   "cell_type": "code",
   "execution_count": 47,
   "metadata": {},
   "outputs": [
    {
     "name": "stdout",
     "output_type": "stream",
     "text": [
      "(BBOW) Training F1 Measure of Decision Tree with best hyper-parameter = 0.7064587082583483\n",
      "(BBOW) Validation F1 Measure of Decision Tree with best hyper-parameter = 0.6959608078384323\n",
      "(BBOW) Testing F1 Measure of Decision Tree with best hyper-parameter = 0.7058329332693231\n"
     ]
    }
   ],
   "source": [
    "BBOW_F1_DT_train = decisionTree(trainX, trainY, trainX, trainY, 0.04035360699999998, 6)\n",
    "print(\"(BBOW) Training F1 Measure of Decision Tree with best hyper-parameter = {}\".format(BBOW_F1_DT_train))\n",
    "BBOW_F1_DT_valid = decisionTree(trainX, trainY, validX, validY, 0.04035360699999998, 6)\n",
    "print(\"(BBOW) Validation F1 Measure of Decision Tree with best hyper-parameter = {}\".format(BBOW_F1_DT_valid))\n",
    "BBOW_F1_DT_test = decisionTree(trainX, trainY, testX, testY, 0.04035360699999998, 6)\n",
    "print(\"(BBOW) Testing F1 Measure of Decision Tree with best hyper-parameter = {}\".format(BBOW_F1_DT_test))"
   ]
  },
  {
   "cell_type": "markdown",
   "metadata": {},
   "source": [
    "### Linear SVM"
   ]
  },
  {
   "cell_type": "markdown",
   "metadata": {},
   "source": [
    "Find best hyper parameter C and dual"
   ]
  },
  {
   "cell_type": "code",
   "execution_count": 48,
   "metadata": {},
   "outputs": [
    {
     "name": "stdout",
     "output_type": "stream",
     "text": [
      "The F1 measure = 0.8787242551489702 \n",
      "C = 0.004747561509942996\n",
      "Dual = False\n"
     ]
    }
   ],
   "source": [
    "c = 0.7\n",
    "best_f1 = 0\n",
    "bestC = 1.0\n",
    "best_dual = False\n",
    "for i in range(15):\n",
    "    dual = False\n",
    "    f1 = linearSVM(trainX, trainY, validX, validY,c, dual)\n",
    "    if (f1 > best_f1):\n",
    "        best_f1 = f1\n",
    "        bestC = c\n",
    "        best_dual = dual\n",
    "    dual = True\n",
    "    f1 = linearSVM(trainX, trainY, validX, validY, c, dual)\n",
    "    if (f1 > best_f1):\n",
    "        best_f1 = f1\n",
    "        bestC = c\n",
    "        best_dual = dual\n",
    "    c *= 0.7\n",
    "\n",
    "print(\"The F1 measure = {} \\nC = {}\\nDual = {}\".format(best_f1, bestC, best_dual))"
   ]
  },
  {
   "cell_type": "markdown",
   "metadata": {},
   "source": [
    "Apply the best hyper parameters with C = 0.004747561509942996 and dual = False"
   ]
  },
  {
   "cell_type": "code",
   "execution_count": 50,
   "metadata": {
    "scrolled": true
   },
   "outputs": [
    {
     "name": "stdout",
     "output_type": "stream",
     "text": [
      "(BBOW) Training F1 Measure of Linear SVM with best hyper-parameter = 0.9470772512164234\n",
      "(BBOW) Validation F1 Measure of Linear SVM with best hyper-parameter = 0.8787242551489702\n",
      "(BBOW) Testing F1 Measure of Linear SVM with best hyper-parameter = 0.874739958393343\n"
     ]
    }
   ],
   "source": [
    "BBOW_F1_SVM_train = linearSVM(trainX, trainY, trainX, trainY, 0.004747561509942996, False)\n",
    "print(\"(BBOW) Training F1 Measure of Linear SVM with best hyper-parameter = {}\".format(BBOW_F1_SVM_train))\n",
    "BBOW_F1_SVM_valid = linearSVM(trainX, trainY, validX, validY, 0.004747561509942996, False)\n",
    "print(\"(BBOW) Validation F1 Measure of Linear SVM with best hyper-parameter = {}\".format(BBOW_F1_SVM_valid))\n",
    "BBOW_F1_SVM_test = linearSVM(trainX, trainY, testX, testY, 0.004747561509942996, False)\n",
    "print(\"(BBOW) Testing F1 Measure of Linear SVM with best hyper-parameter = {}\".format(BBOW_F1_SVM_test))"
   ]
  },
  {
   "cell_type": "markdown",
   "metadata": {},
   "source": [
    "### Question 5"
   ]
  },
  {
   "cell_type": "markdown",
   "metadata": {},
   "source": [
    "Now we use frequency bag of word for IMDB dataset"
   ]
  },
  {
   "cell_type": "code",
   "execution_count": 51,
   "metadata": {},
   "outputs": [],
   "source": [
    "trainReviews = getReviews(\"output_datasets/IMDB-train.txt\")\n",
    "trainX = buildFreqBOW(trainReviews[0])\n",
    "trainY = trainReviews[1]\n",
    "\n",
    "validReviews = getReviews(\"output_datasets/IMDB-valid.txt\")\n",
    "validX = buildFreqBOW(validReviews[0])\n",
    "validY = validReviews[1]\n",
    "\n",
    "testReviews = getReviews(\"output_datasets/IMDB-test.txt\")\n",
    "testX = buildFreqBOW(testReviews[0])\n",
    "testY = testReviews[1]"
   ]
  },
  {
   "cell_type": "markdown",
   "metadata": {},
   "source": [
    "### Gaussian Native Bayes"
   ]
  },
  {
   "cell_type": "code",
   "execution_count": 52,
   "metadata": {},
   "outputs": [
    {
     "name": "stdout",
     "output_type": "stream",
     "text": [
      "(FBOW) Training F1 Measure of Gaussian NB = 0.8565620209291475\n",
      "(FBOW) Validation F1 Measure of Gaussian NB = 0.7521495700859829\n",
      "(FBOW) Testing F1 Measure of Gaussian NB = 0.681148983837414\n"
     ]
    }
   ],
   "source": [
    "FBOW_F1_GNB_train = GaussianNativeBayes(trainX, trainY, trainX, trainY)\n",
    "print(\"(FBOW) Training F1 Measure of Gaussian NB = {}\".format(FBOW_F1_GNB_train))\n",
    "FBOW_F1_GNB_valid = GaussianNativeBayes(trainX, trainY, validX, validY)\n",
    "print(\"(FBOW) Validation F1 Measure of Gaussian NB = {}\".format(FBOW_F1_GNB_valid))\n",
    "FBOW_F1_GNB_test = GaussianNativeBayes(trainX, trainY, testX, testY)\n",
    "print(\"(FBOW) Testing F1 Measure of Gaussian NB = {}\".format(FBOW_F1_GNB_test))"
   ]
  },
  {
   "cell_type": "markdown",
   "metadata": {},
   "source": [
    "### Decision Tree"
   ]
  },
  {
   "cell_type": "code",
   "execution_count": 53,
   "metadata": {},
   "outputs": [
    {
     "name": "stdout",
     "output_type": "stream",
     "text": [
      "The best F1 measure  = 0.6993601279744052 \n",
      "max_depth = 6 \n",
      "min_sample_split = 0.49\n"
     ]
    }
   ],
   "source": [
    "findHyperP_DT(trainX, trainY, validX, validY)"
   ]
  },
  {
   "cell_type": "markdown",
   "metadata": {},
   "source": [
    "Apply the best min_sample_split on the test set with min_sample_split = 0.49 and max_depth = 6"
   ]
  },
  {
   "cell_type": "code",
   "execution_count": 54,
   "metadata": {},
   "outputs": [
    {
     "name": "stdout",
     "output_type": "stream",
     "text": [
      "(FBOW) Training F1 Measure of Decision Tree with best hyper-parameter = 0.706125441578351\n",
      "(FBOW) Validation F1 Measure of Decision Tree with best hyper-parameter = 0.6993601279744052\n",
      "(FBOW) Testing F1 Measure of Decision Tree with best hyper-parameter = 0.7032325172027525\n"
     ]
    }
   ],
   "source": [
    "FBOW_F1_DT_train = decisionTree(trainX, trainY, trainX, trainY, 0.49, 6)\n",
    "print(\"(FBOW) Training F1 Measure of Decision Tree with best hyper-parameter = {}\".format(FBOW_F1_DT_train))\n",
    "FBOW_F1_DT_valid = decisionTree(trainX, trainY, validX, validY, 0.49, 6)\n",
    "print(\"(FBOW) Validation F1 Measure of Decision Tree with best hyper-parameter = {}\".format(FBOW_F1_DT_valid))\n",
    "FBOW_F1_DT_test = decisionTree(trainX, trainY, testX, testY, 0.49, 6)\n",
    "print(\"(FBOW) Testing F1 Measure of Decision Tree with best hyper-parameter = {}\".format(FBOW_F1_DT_test))"
   ]
  },
  {
   "cell_type": "markdown",
   "metadata": {},
   "source": [
    "### Linear SVM"
   ]
  },
  {
   "cell_type": "markdown",
   "metadata": {},
   "source": [
    "Find best hyper parameter C and dual"
   ]
  },
  {
   "cell_type": "code",
   "execution_count": 55,
   "metadata": {},
   "outputs": [
    {
     "name": "stdout",
     "output_type": "stream",
     "text": [
      "The F1 measure = 0.876124775044991 \n",
      "C = 31.947999937062274\n",
      "Dual = False\n"
     ]
    }
   ],
   "source": [
    "c = 1.0\n",
    "best_f1 = 0\n",
    "bestC = 1.0\n",
    "best_dual = False\n",
    "for i in range(20):\n",
    "    dual = False\n",
    "    f1 = linearSVM(trainX, trainY, validX, validY,c, dual)\n",
    "    if (f1 > best_f1):\n",
    "        best_f1 = f1\n",
    "        bestC = c\n",
    "        best_dual = dual\n",
    "    dual = True\n",
    "    f1 = linearSVM(trainX, trainY, validX, validY, c, dual)\n",
    "    if (f1 > best_f1):\n",
    "        best_f1 = f1\n",
    "        bestC = c\n",
    "        best_dual = dual\n",
    "    c *= 1.2\n",
    "\n",
    "print(\"The F1 measure = {} \\nC = {}\\nDual = {}\".format(best_f1, bestC, best_dual))"
   ]
  },
  {
   "cell_type": "markdown",
   "metadata": {},
   "source": [
    "Apply the best hyper parameters with C = 31.947999937062274 and dual = False"
   ]
  },
  {
   "cell_type": "code",
   "execution_count": 57,
   "metadata": {},
   "outputs": [
    {
     "name": "stdout",
     "output_type": "stream",
     "text": [
      "(FBOW) Training F1 Measure of Linear SVM with best hyper-parameter = 0.9186829300806505\n",
      "(FBOW) Validation F1 Measure of Linear SVM with best hyper-parameter = 0.876124775044991\n",
      "(FBOW) Testing F1 Measure of Linear SVM with best hyper-parameter = 0.8739398303728596\n"
     ]
    }
   ],
   "source": [
    "FBOW_F1_SVM_train = linearSVM(trainX, trainY, trainX, trainY, 31.947999937062274, False)\n",
    "print(\"(FBOW) Training F1 Measure of Linear SVM with best hyper-parameter = {}\".format(FBOW_F1_SVM_train))\n",
    "FBOW_F1_SVM_valid = linearSVM(trainX, trainY, validX, validY, 31.947999937062274, False)\n",
    "print(\"(FBOW) Validation F1 Measure of Linear SVM with best hyper-parameter = {}\".format(FBOW_F1_SVM_valid))\n",
    "FBOW_F1_SVM_test = linearSVM(trainX, trainY, testX, testY, 31.947999937062274, False)\n",
    "print(\"(FBOW) Testing F1 Measure of Linear SVM with best hyper-parameter = {}\".format(FBOW_F1_SVM_test))"
   ]
  }
 ],
 "metadata": {
  "kernelspec": {
   "display_name": "Python 3",
   "language": "python",
   "name": "python3"
  },
  "language_info": {
   "codemirror_mode": {
    "name": "ipython",
    "version": 3
   },
   "file_extension": ".py",
   "mimetype": "text/x-python",
   "name": "python",
   "nbconvert_exporter": "python",
   "pygments_lexer": "ipython3",
   "version": "3.7.1"
  }
 },
 "nbformat": 4,
 "nbformat_minor": 1
}
