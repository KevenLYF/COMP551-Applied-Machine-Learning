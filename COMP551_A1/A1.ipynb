{
 "cells": [
  {
   "cell_type": "markdown",
   "metadata": {},
   "source": [
    "# Assignment 1  "
   ]
  },
  {
   "cell_type": "markdown",
   "metadata": {},
   "source": [
    "(For each question, run sequentially）\n",
    "\n",
    "For windows system, you may need to change the data set path to \"Datasets\\\\\\\\\\[file_name\\]\""
   ]
  },
  {
   "cell_type": "markdown",
   "metadata": {},
   "source": [
    "## Question 1 Sampling"
   ]
  },
  {
   "cell_type": "markdown",
   "metadata": {},
   "source": [
    "Python code for sampling"
   ]
  },
  {
   "cell_type": "code",
   "execution_count": 1,
   "metadata": {},
   "outputs": [],
   "source": [
    "import numpy"
   ]
  },
  {
   "cell_type": "code",
   "execution_count": 2,
   "metadata": {},
   "outputs": [],
   "source": [
    "def sampling(n):\n",
    "    pairs = [(.2, \"Movies\"), (.4, \"COMP-551\"), (.1, \"Playing\"), (.3, \"Studying\")]\n",
    "    probabilities = numpy.random.multinomial(n, list(zip(*pairs))[0])\n",
    "    result = list(zip(probabilities, list(zip(*pairs))[1]))\n",
    "    return result"
   ]
  },
  {
   "cell_type": "markdown",
   "metadata": {},
   "source": [
    "Routine for 100 days"
   ]
  },
  {
   "cell_type": "code",
   "execution_count": 3,
   "metadata": {},
   "outputs": [
    {
     "name": "stdout",
     "output_type": "stream",
     "text": [
      "[(18, 'Movies'), (33, 'COMP-551'), (19, 'Playing'), (30, 'Studying')]\n"
     ]
    }
   ],
   "source": [
    "print(sampling(100))"
   ]
  },
  {
   "cell_type": "raw",
   "metadata": {},
   "source": [
    "Routine for 1000 days"
   ]
  },
  {
   "cell_type": "code",
   "execution_count": 4,
   "metadata": {},
   "outputs": [
    {
     "name": "stdout",
     "output_type": "stream",
     "text": [
      "[(185, 'Movies'), (405, 'COMP-551'), (111, 'Playing'), (299, 'Studying')]\n"
     ]
    }
   ],
   "source": [
    "print(sampling(1000))"
   ]
  },
  {
   "cell_type": "markdown",
   "metadata": {},
   "source": [
    "## Question 2 Model Selection"
   ]
  },
  {
   "cell_type": "markdown",
   "metadata": {},
   "source": [
    "Libraries used "
   ]
  },
  {
   "cell_type": "code",
   "execution_count": 5,
   "metadata": {},
   "outputs": [],
   "source": [
    "import numpy as np\n",
    "import math\n",
    "import csv\n",
    "import sys\n",
    "import matplotlib.pyplot as plt"
   ]
  },
  {
   "cell_type": "markdown",
   "metadata": {},
   "source": [
    "The first step is to calculate the w matrix, based on training data set"
   ]
  },
  {
   "cell_type": "code",
   "execution_count": 6,
   "metadata": {},
   "outputs": [],
   "source": [
    "M = 20\n",
    "\n",
    "def calcW(trainSetPath):\n",
    "    with open(trainSetPath) as csvFile:\n",
    "        trainDataSet = csv.reader(csvFile, delimiter = ',')\n",
    "        inputX = []\n",
    "        outputY = []\n",
    "        inputX_temp = []\n",
    "        outputY_temp = []\n",
    "        x0 = []   #x0 is just an array with 1s\n",
    "        for row in trainDataSet:\n",
    "            inputX_temp.append(float(row[0]))\n",
    "            outputY_temp.append(float(row[1]))\n",
    "\n",
    "        for i in range(len(inputX_temp)):  #add x0 to matrix\n",
    "            x0.append(1.0)\n",
    "\n",
    "    inputX.append(x0)\n",
    "\n",
    "    for j in range(1, M+1, 1):\n",
    "        inputX.append(np.power(inputX_temp, j))\n",
    "\n",
    "    outputY.append(outputY_temp)\n",
    "    inputX = np.transpose(np.array(inputX, dtype = 'float'))\n",
    "    outputY = np.transpose(np.array(outputY, dtype = 'float'))\n",
    "    part1 = np.dot(np.transpose(inputX), inputX)            # xTx\n",
    "    part2 = np.dot(np.transpose(inputX), outputY)           # xTy\n",
    "\n",
    "    w = np.dot(np.linalg.inv(part1), part2)                 # w = (xTx)^-1 dot xTy\n",
    "    return w"
   ]
  },
  {
   "cell_type": "markdown",
   "metadata": {},
   "source": [
    "Then we calculate training MSE and validation MSE"
   ]
  },
  {
   "cell_type": "code",
   "execution_count": 7,
   "metadata": {},
   "outputs": [],
   "source": [
    "def calcMSE(dataSetPath, w):\n",
    "    with open(dataSetPath) as csvFile:\n",
    "        dataSet = csv.reader(csvFile, delimiter = ',')\n",
    "        inputX = []\n",
    "        outputY = []\n",
    "        inputX_temp = []\n",
    "        outputY_temp = []\n",
    "        x0 = []   # x0 is just an array with 1\n",
    "        for row in dataSet:\n",
    "            inputX_temp.append(float(row[0]))\n",
    "            outputY_temp.append(float(row[1]))\n",
    "\n",
    "        for i in range(len(inputX_temp)):  # add x0 to matrix\n",
    "            x0.append(1.0)\n",
    "\n",
    "    inputX.append(x0)\n",
    "\n",
    "    for j in range(1, M+1, 1):\n",
    "        inputX.append(np.power(inputX_temp, j))\n",
    "\n",
    "    outputY.append(outputY_temp)\n",
    "    inputX = np.transpose(np.array(inputX, dtype = 'float'))\n",
    "    outputY = np.transpose(np.array(outputY, dtype = 'float'))\n",
    "\n",
    "    diff = np.subtract(np.dot(inputX, w), outputY)  # y(x, w) - y(x)\n",
    "    MSE = np.square(diff).mean()\n",
    "    return MSE"
   ]
  },
  {
   "cell_type": "markdown",
   "metadata": {},
   "source": [
    "### 1.(a)"
   ]
  },
  {
   "cell_type": "code",
   "execution_count": 8,
   "metadata": {},
   "outputs": [
    {
     "name": "stdout",
     "output_type": "stream",
     "text": [
      "MSE for Training set (No regularization) = 6.474753981824253\n",
      "MSE for Validation set (No regularization) = 1414.3778093802093\n"
     ]
    }
   ],
   "source": [
    "wMatrix = calcW(\"Datasets/Dataset_1_train.csv\")\n",
    "print(\"MSE for Training set (No regularization) = \" + str(calcMSE(\"Datasets/Dataset_1_train.csv\", wMatrix)))\n",
    "print(\"MSE for Validation set (No regularization) = \" + str(calcMSE(\"Datasets/Dataset_1_valid.csv\", wMatrix)))"
   ]
  },
  {
   "cell_type": "markdown",
   "metadata": {},
   "source": [
    "### 1.(b) Visualize the fit"
   ]
  },
  {
   "cell_type": "markdown",
   "metadata": {},
   "source": [
    "By using w matraix we got before, we can calculate the model output"
   ]
  },
  {
   "cell_type": "code",
   "execution_count": 9,
   "metadata": {},
   "outputs": [],
   "source": [
    "def calcModelOutput(x, wMatrix):\n",
    "    y = 0.0\n",
    "    for i in range(0, M+1, 1):\n",
    "        y += math.pow(x, i) * wMatrix[i][0]\n",
    "    return y"
   ]
  },
  {
   "cell_type": "markdown",
   "metadata": {},
   "source": [
    "Plot function"
   ]
  },
  {
   "cell_type": "code",
   "execution_count": 10,
   "metadata": {},
   "outputs": [],
   "source": [
    "def plotModel(dataSetPath, wMatrix):\n",
    "    with open(dataSetPath) as csvFile:\n",
    "        dataSet = csv.reader(csvFile, delimiter = ',')\n",
    "        inputX = []\n",
    "        outputY = []\n",
    "        modelDataPoint = []\n",
    "\n",
    "        for row in dataSet:\n",
    "            inputX.append(float(row[0]))\n",
    "            outputY.append(float(row[1]))\n",
    "\n",
    "        for i in range(len(inputX)):\n",
    "            modelDataPoint.append(calcModelOutput(inputX[i], wMatrix))\n",
    "\n",
    "    plt.plot(sorted(inputX), sorted(modelDataPoint), 'b-', label='Model')\n",
    "    plt.plot(inputX, outputY, 'ro', label=\"Data\")\n",
    "    plt.legend()\n",
    "    plt.title(\"Fit Visualization\")\n",
    "    plt.xlabel(\"X\")\n",
    "    plt.ylabel(\"Y\")\n",
    "    plt.show()"
   ]
  },
  {
   "cell_type": "markdown",
   "metadata": {},
   "source": [
    "Make plot outputs appear and be stored within the notebook."
   ]
  },
  {
   "cell_type": "code",
   "execution_count": 11,
   "metadata": {},
   "outputs": [],
   "source": [
    "%matplotlib inline"
   ]
  },
  {
   "cell_type": "markdown",
   "metadata": {},
   "source": [
    "Visualize the fit of validation dataset"
   ]
  },
  {
   "cell_type": "code",
   "execution_count": 12,
   "metadata": {
    "scrolled": true
   },
   "outputs": [
    {
     "data": {
      "image/png": "[encoded data removed]",
      "text/plain": [
       "<Figure size 432x288 with 1 Axes>"
      ]
     },
     "metadata": {
      "needs_background": "light"
     },
     "output_type": "display_data"
    }
   ],
   "source": [
    "plotModel(\"Datasets/Dataset_1_valid.csv\", wMatrix)"
   ]
  },
  {
   "cell_type": "markdown",
   "metadata": {},
   "source": [
    "### 1.(c)\n",
    "This model is overfitting because training MSE is much smaller than validation MSE"
   ]
  },
  {
   "cell_type": "markdown",
   "metadata": {},
   "source": [
    "### 2.(a)\n",
    "Following equation w = (x^Tx + λI)^(-1) dot (x^Ty)"
   ]
  },
  {
   "cell_type": "code",
   "execution_count": 13,
   "metadata": {},
   "outputs": [],
   "source": [
    "def calcW_L2(dataSetPath, ld):\n",
    "    with open(dataSetPath) as csvFile:\n",
    "        dataSet = csv.reader(csvFile, delimiter = ',')\n",
    "        inputX = []\n",
    "        outputY = []\n",
    "        inputX_temp = []\n",
    "        outputY_temp = []\n",
    "        x0 = []   # x0 is just an array with 1\n",
    "        for row in dataSet:\n",
    "            inputX_temp.append(float(row[0]))\n",
    "            outputY_temp.append(float(row[1]))\n",
    "\n",
    "        for i in range(len(inputX_temp)):  # add x0 to matrix\n",
    "            x0.append(1.0)\n",
    "\n",
    "    inputX.append(x0)\n",
    "\n",
    "    for j in range(1, M+1, 1):\n",
    "        inputX.append(np.power(inputX_temp, j))\n",
    "\n",
    "    outputY.append(outputY_temp)\n",
    "    inputX = np.transpose(np.array(inputX, dtype = 'float'))\n",
    "    outputY = np.transpose(np.array(outputY, dtype = 'float'))\n",
    "\n",
    "    part1 = np.dot(np.transpose(inputX), inputX)        # x^Tx\n",
    "    part2 = ld * np.identity(part1.shape[0])            # λI\n",
    "    left = np.linalg.inv(np.add(part1, part2))          # (x^Tx + λI)^(-1)\n",
    "    right = np.dot(np.transpose(inputX), outputY)       # x^Ty\n",
    "\n",
    "    wMatrix_L2 = np.dot(left, right)\n",
    "    \n",
    "    return wMatrix_L2"
   ]
  },
  {
   "cell_type": "markdown",
   "metadata": {},
   "source": [
    "Helper function to print minimum MSE with corresponding λ"
   ]
  },
  {
   "cell_type": "code",
   "execution_count": 14,
   "metadata": {},
   "outputs": [],
   "source": [
    "def printMinLambda(ld_set, valid_MSE):\n",
    "    minLambda = 1\n",
    "    minMSE = sys.float_info.max\n",
    "    for i in range(len(valid_MSE)):\n",
    "        minMSE = min(minMSE, valid_MSE[i])\n",
    "        minLambda = ld_set[valid_MSE.index(minMSE)]\n",
    "    print(\"Minimum MSE: \" + str(minMSE) + \"\\n\" + \"Lambda : \" + str(minLambda))"
   ]
  },
  {
   "cell_type": "code",
   "execution_count": 15,
   "metadata": {},
   "outputs": [],
   "source": [
    "def pickLambda(trainDataSetPath, validDataSetPath):\n",
    "    ld = 0.0\n",
    "    ld_set = []\n",
    "    train_MSE = []\n",
    "    valid_MSE = []\n",
    "\n",
    "    while (ld <= 1):\n",
    "        wMatrix_L2 = calcW_L2(trainDataSetPath, ld)\n",
    "        train_MSE.append(calcMSE(trainDataSetPath, wMatrix_L2))\n",
    "        valid_MSE.append(calcMSE(validDataSetPath, wMatrix_L2))\n",
    "        ld_set.append(ld)\n",
    "        ld += 0.005\n",
    "\n",
    "    printMinLambda(ld_set, valid_MSE)\n",
    "\n",
    "# plot training MSE and validation MSE\n",
    "\n",
    "    plt.plot(ld_set, train_MSE, 'r-', label = \"Train MSE\")\n",
    "    plt.plot(ld_set, valid_MSE, 'b-', label = \"Valid MSE\")\n",
    "    plt.legend()\n",
    "    plt.axis([0, 1, 5, 15])\n",
    "    plt.title(\"MSE VS Lambda\")\n",
    "    plt.xlabel(\"Lambda\")\n",
    "    plt.ylabel(\"MSE\")\n",
    "    plt.show()"
   ]
  },
  {
   "cell_type": "markdown",
   "metadata": {},
   "source": [
    "Now we pick a value from a set of λ based on the validation performance, that is, with minimum MSE"
   ]
  },
  {
   "cell_type": "code",
   "execution_count": 16,
   "metadata": {},
   "outputs": [
    {
     "name": "stdout",
     "output_type": "stream",
     "text": [
      "Minimum MSE: 9.135098784694344\n",
      "Lambda : 0.02\n"
     ]
    },
    {
     "data": {
      "image/png": "[encoded data removed]",
      "text/plain": [
       "<Figure size 432x288 with 1 Axes>"
      ]
     },
     "metadata": {
      "needs_background": "light"
     },
     "output_type": "display_data"
    }
   ],
   "source": [
    "pickLambda(\"Datasets/Dataset_1_train.csv\", \"Datasets/Dataset_1_valid.csv\")"
   ]
  },
  {
   "cell_type": "markdown",
   "metadata": {},
   "source": [
    "The minimum MSE for validation is 9.135 and the corresponding λ is 0.02, we will use this value for our model"
   ]
  },
  {
   "cell_type": "markdown",
   "metadata": {},
   "source": [
    "### 2.(b)\n",
    "Now calculate the test MSE with λ = 0.02"
   ]
  },
  {
   "cell_type": "code",
   "execution_count": 17,
   "metadata": {
    "scrolled": false
   },
   "outputs": [
    {
     "name": "stdout",
     "output_type": "stream",
     "text": [
      "MSE of Test data set (L2 regularization) : 10.730218400927383\n"
     ]
    }
   ],
   "source": [
    "wMatrix_L2 = calcW_L2(\"Datasets/Dataset_1_train.csv\", 0.02)\n",
    "print(\"MSE of Test data set (L2 regularization) : \" + str(calcMSE(\"Datasets/Dataset_1_test.csv\", wMatrix_L2)))"
   ]
  },
  {
   "cell_type": "markdown",
   "metadata": {},
   "source": [
    "### 2.(c)\n",
    "Visualize the fit of validation dataset with λ = 0.02"
   ]
  },
  {
   "cell_type": "code",
   "execution_count": 18,
   "metadata": {
    "scrolled": true
   },
   "outputs": [
    {
     "data": {
      "image/png": "[encoded data removed]",
      "text/plain": [
       "<Figure size 432x288 with 1 Axes>"
      ]
     },
     "metadata": {
      "needs_background": "light"
     },
     "output_type": "display_data"
    }
   ],
   "source": [
    "plotModel(\"Datasets/Dataset_1_valid.csv\", wMatrix_L2)"
   ]
  },
  {
   "cell_type": "markdown",
   "metadata": {},
   "source": [
    "Visualize the fit of test dataset with λ = 0.02"
   ]
  },
  {
   "cell_type": "code",
   "execution_count": 19,
   "metadata": {},
   "outputs": [
    {
     "data": {
      "image/png": "[encoded data removed]",
      "text/plain": [
       "<Figure size 432x288 with 1 Axes>"
      ]
     },
     "metadata": {
      "needs_background": "light"
     },
     "output_type": "display_data"
    }
   ],
   "source": [
    "plotModel(\"Datasets/Dataset_1_test.csv\", wMatrix_L2)"
   ]
  },
  {
   "cell_type": "markdown",
   "metadata": {},
   "source": [
    "### 2.(d)\n",
    "This model is not overfitting nor underfitting, because by using the λ we choose, the MSE of validation set and test set is really close."
   ]
  },
  {
   "cell_type": "markdown",
   "metadata": {},
   "source": [
    "## Question 3 Gradient Descent for Regression"
   ]
  },
  {
   "cell_type": "markdown",
   "metadata": {},
   "source": [
    "Libraries used"
   ]
  },
  {
   "cell_type": "code",
   "execution_count": 20,
   "metadata": {},
   "outputs": [],
   "source": [
    "import numpy as np\n",
    "import csv\n",
    "import matplotlib.pyplot as plt"
   ]
  },
  {
   "cell_type": "raw",
   "metadata": {},
   "source": [
    "Read data from training data set and validation data set"
   ]
  },
  {
   "cell_type": "code",
   "execution_count": 21,
   "metadata": {},
   "outputs": [],
   "source": [
    "stepSize = 1e-6\n",
    "\n",
    "# Read training data setfrom CSV file\n",
    "with open(\"Datasets/Dataset_2_train.csv\") as csvFile:\n",
    "    trainDataSet = csv.reader(csvFile, delimiter=',')\n",
    "    inputX = []\n",
    "    outputY = []\n",
    "    xTemp = []\n",
    "    x0 = []\n",
    "\n",
    "    for row in trainDataSet:\n",
    "        xTemp.append(float(row[0]))\n",
    "        outputY.append(float(row[1]))\n",
    "    for i in range(len(xTemp)):\n",
    "        x0.append(1.0)\n",
    "\n",
    "    inputX.append(xTemp)\n",
    "    inputX.append(x0)\n",
    "    inputX = np.transpose(np.array(inputX, dtype=\"float\"))\n",
    "    outputY = np.transpose(np.array(outputY, dtype=\"float\"))\n",
    "\n",
    "# Read validation data set from CSV file\n",
    "with open(\"Datasets/Dataset_2_valid.csv\") as csvFile:\n",
    "    validDataSet = csv.reader(csvFile, delimiter=',')\n",
    "    inputX2 = []\n",
    "    outputY2 = []\n",
    "    xTemp = []\n",
    "    x0 = []\n",
    "\n",
    "    for row in validDataSet:\n",
    "        xTemp.append(float(row[0]))\n",
    "        outputY2.append(float(row[1]))\n",
    "    for i in range(len(xTemp)):\n",
    "        x0.append(1.0)\n",
    "\n",
    "    inputX2.append(xTemp)\n",
    "    inputX2.append(x0)\n",
    "    inputX2 = np.transpose(np.array(inputX2, dtype=\"float\"))\n",
    "    outputY2 = np.transpose(np.array(outputY2, dtype=\"float\"))\n",
    "    \n",
    "# Read test data set from CSV file\n",
    "with open(\"Datasets/Dataset_2_test.csv\") as csvFile:\n",
    "    validDataSet = csv.reader(csvFile, delimiter=',')\n",
    "    inputX3 = []\n",
    "    outputY3 = []\n",
    "    xTemp = []\n",
    "    x0 = []\n",
    "\n",
    "    for row in validDataSet:\n",
    "        xTemp.append(float(row[0]))\n",
    "        outputY3.append(float(row[1]))\n",
    "    for i in range(len(xTemp)):\n",
    "        x0.append(1.0)\n",
    "\n",
    "    inputX3.append(xTemp)\n",
    "    inputX3.append(x0)\n",
    "    inputX3 = np.transpose(np.array(inputX3, dtype=\"float\"))\n",
    "    outputY3 = np.transpose(np.array(outputY3, dtype=\"float\"))"
   ]
  },
  {
   "cell_type": "markdown",
   "metadata": {},
   "source": [
    "Based on several attempts, I found that after 10000 epoch, the MSE is stabilized, so I used 10000 epoch"
   ]
  },
  {
   "cell_type": "code",
   "execution_count": 22,
   "metadata": {},
   "outputs": [],
   "source": [
    "trainMSE_set = []\n",
    "validMSE_set = []\n",
    "numEpoch = 10000\n",
    "\n",
    "def calcMSE(x, y, w):\n",
    "    diff = np.subtract(np.dot(x,w), y)\n",
    "    MSE = np.square(diff).mean()\n",
    "    return MSE\n",
    "\n",
    "wMatrix = np.array([1.0, 1.0], dtype=\"float\")\n",
    "\n",
    "def calcW(epoch):\n",
    "    w = np.array([1.0, 1.0], dtype=\"float\")\n",
    "    for i in range(epoch):\n",
    "        for j in range(inputX.shape[0]):\n",
    "            w[0] = w[0] - stepSize * ((w[1] + w[0] * inputX[j][0]) - outputY[j])\n",
    "            w[1] = w[1] - stepSize * ((w[1] + w[0] * inputX[j][0]) - outputY[j]) * inputX[j][0]\n",
    "\n",
    "        trainMSE_set.append(calcMSE(inputX, outputY, w))\n",
    "        validMSE_set.append(calcMSE(inputX2, outputY2, w))\n",
    "\n",
    "    return w\n",
    "\n",
    "wMatrix  = calcW(numEpoch)"
   ]
  },
  {
   "cell_type": "markdown",
   "metadata": {},
   "source": [
    "w0, w1 with step size 1e-6 and 10000 epoch"
   ]
  },
  {
   "cell_type": "code",
   "execution_count": 23,
   "metadata": {},
   "outputs": [
    {
     "name": "stdout",
     "output_type": "stream",
     "text": [
      "w0 is : 4.04628545461888\n",
      "w1 is : 3.7751784300755262\n",
      "with 10000 epoch\n"
     ]
    }
   ],
   "source": [
    "print(\"w0 is : \" + str(wMatrix[0]) + \"\\n\" + \"w1 is : \" + str(wMatrix[1]) + \"\\nwith \" + str(numEpoch) + \" epoch\")"
   ]
  },
  {
   "cell_type": "markdown",
   "metadata": {},
   "source": [
    "training MSE and validation MSE at 10000 epoch is"
   ]
  },
  {
   "cell_type": "code",
   "execution_count": 24,
   "metadata": {},
   "outputs": [
    {
     "name": "stdout",
     "output_type": "stream",
     "text": [
      "0.10867516072717355\n",
      "0.09973526899206915\n"
     ]
    }
   ],
   "source": [
    "print(calcMSE(inputX, outputY, wMatrix))\n",
    "print(calcMSE(inputX2, outputY2, wMatrix))"
   ]
  },
  {
   "cell_type": "markdown",
   "metadata": {},
   "source": [
    "### 3.1\n",
    "Plot the learning curve (training and validation MSE for every epoch)"
   ]
  },
  {
   "cell_type": "code",
   "execution_count": 25,
   "metadata": {},
   "outputs": [],
   "source": [
    "def plotLearnCurve(trainMSE_set, validMSE_set, numEpoch):\n",
    "    plt.plot(trainMSE_set, 'r', label = 'Train MSE')\n",
    "    plt.plot(validMSE_set, 'b', label = 'Valid MSE')\n",
    "    plt.legend()\n",
    "    plt.axis([0, numEpoch, 0, 30])\n",
    "    plt.title(\"Learning Curve\")\n",
    "    plt.xlabel(\"Epochs\")\n",
    "    plt.ylabel(\"MSE\")\n",
    "    plt.show()"
   ]
  },
  {
   "cell_type": "code",
   "execution_count": 26,
   "metadata": {},
   "outputs": [
    {
     "data": {
      "image/png": "[encoded data removed]",
      "text/plain": [
       "<Figure size 432x288 with 1 Axes>"
      ]
     },
     "metadata": {
      "needs_background": "light"
     },
     "output_type": "display_data"
    }
   ],
   "source": [
    "plotLearnCurve(trainMSE_set, validMSE_set, numEpoch)"
   ]
  },
  {
   "cell_type": "markdown",
   "metadata": {},
   "source": [
    "### 3.2 Please see report for details"
   ]
  },
  {
   "cell_type": "markdown",
   "metadata": {},
   "source": [
    "### 3.3"
   ]
  },
  {
   "cell_type": "markdown",
   "metadata": {},
   "source": [
    "Plot learning process"
   ]
  },
  {
   "cell_type": "code",
   "execution_count": 27,
   "metadata": {},
   "outputs": [],
   "source": [
    "def plotFitEvolve(w):\n",
    "    with open(\"Datasets/Dataset_2_train.csv\") as csvFile:\n",
    "        trainDataSet = csv.reader(csvFile, delimiter=',')\n",
    "        x = []\n",
    "        y = []\n",
    "        model_output = []\n",
    "\n",
    "        for row in trainDataSet:\n",
    "            x.append(float(row[0]))\n",
    "            y.append(float(row[1]))\n",
    "\n",
    "        for i in range(len(inputX)):\n",
    "            model_output.append(w[1] + x[i] * w[0])\n",
    "\n",
    "\n",
    "    plt.plot(x, model_output,'b',label=\"Train Data\")\n",
    "    plt.plot(x, y, 'ro', label=\"Train Data\")\n",
    "    plt.legend()\n",
    "    plt.title(\"Learning Process\")\n",
    "    plt.xlabel(\"x\")\n",
    "    plt.ylabel(\"y\")\n",
    "    plt.show()"
   ]
  },
  {
   "cell_type": "markdown",
   "metadata": {},
   "source": [
    "Visualize the training process, by setting epoch number from smaller value to largeer value"
   ]
  },
  {
   "cell_type": "code",
   "execution_count": 28,
   "metadata": {},
   "outputs": [
    {
     "name": "stdout",
     "output_type": "stream",
     "text": [
      "epoch number : 1400\n"
     ]
    },
    {
     "data": {
      "image/png": "[encoded data removed]",
      "text/plain": [
       "<Figure size 432x288 with 1 Axes>"
      ]
     },
     "metadata": {
      "needs_background": "light"
     },
     "output_type": "display_data"
    },
    {
     "name": "stdout",
     "output_type": "stream",
     "text": [
      "epoch number : 2800\n"
     ]
    },
    {
     "data": {
      "image/png": "[encoded data removed]",
      "text/plain": [
       "<Figure size 432x288 with 1 Axes>"
      ]
     },
     "metadata": {
      "needs_background": "light"
     },
     "output_type": "display_data"
    },
    {
     "name": "stdout",
     "output_type": "stream",
     "text": [
      "epoch number : 4200\n"
     ]
    },
    {
     "data": {
      "image/png": "[encoded data removed]",
      "text/plain": [
       "<Figure size 432x288 with 1 Axes>"
      ]
     },
     "metadata": {
      "needs_background": "light"
     },
     "output_type": "display_data"
    },
    {
     "name": "stdout",
     "output_type": "stream",
     "text": [
      "epoch number : 5600\n"
     ]
    },
    {
     "data": {
      "image/png": "[encoded data removed]",
      "text/plain": [
       "<Figure size 432x288 with 1 Axes>"
      ]
     },
     "metadata": {
      "needs_background": "light"
     },
     "output_type": "display_data"
    },
    {
     "name": "stdout",
     "output_type": "stream",
     "text": [
      "epoch number : 7000\n"
     ]
    },
    {
     "data": {
      "image/png": "[encoded data removed]",
      "text/plain": [
       "<Figure size 432x288 with 1 Axes>"
      ]
     },
     "metadata": {
      "needs_background": "light"
     },
     "output_type": "display_data"
    }
   ],
   "source": [
    "testW = np.array([1.0, 1.0], dtype=\"float\")\n",
    "for i in range (1, 6):\n",
    "    epoch = i * 1400\n",
    "    print(\"epoch number : \" + str(epoch))\n",
    "    testW = calcW(epoch)\n",
    "    plotFitEvolve(testW)"
   ]
  },
  {
   "cell_type": "markdown",
   "metadata": {},
   "source": [
    "We can see that as the training progresses, the fit gets better"
   ]
  },
  {
   "cell_type": "markdown",
   "metadata": {},
   "source": [
    "## Question 4 Real life dataset"
   ]
  },
  {
   "cell_type": "markdown",
   "metadata": {},
   "source": [
    "### 4.1"
   ]
  },
  {
   "cell_type": "markdown",
   "metadata": {},
   "source": [
    "The following code will fill the missing data with sample mean and generate 10 different 80-20 splits files.\n",
    "That is, 5 CandC-train files and 5 CandC-test files."
   ]
  },
  {
   "cell_type": "markdown",
   "metadata": {},
   "source": [
    "I commented the code out because running the code would re-fill the missing data and re-generate the splits files.\n",
    "(The splits files are already generated and located under 'Datasets' directory)"
   ]
  },
  {
   "cell_type": "code",
   "execution_count": 29,
   "metadata": {},
   "outputs": [],
   "source": [
    "# with open(\"Datasets/communities.csv\") as csvFile:\n",
    "#     trainDataSet = csv.reader(csvFile, delimiter=',')\n",
    "#     data = []\n",
    "#     for row in trainDataSet:\n",
    "#         data.append(row)\n",
    "\n",
    "# with open(\"Datasets/stat.csv\") as csvFile:\n",
    "#     trainDataSet = csv.reader(csvFile, delimiter=',')\n",
    "#     stat = []\n",
    "#     for row in trainDataSet:\n",
    "#         stat.append(row)\n",
    "\n",
    "# for i in range(len(data)):\n",
    "#     for j in range(5, len(data[0])) : # The first five columns are non-predictive\n",
    "#         if (data[i][j] == \"?\"):\n",
    "#             data[i][j] = stat[j-5][3]\n",
    "\n",
    "# # now we shuffle data and do 80-20 splits\n",
    "\n",
    "# boundry = int(len(data)*0.8)\n",
    "\n",
    "# for i in range(1, 6):\n",
    "#     random.shuffle(data)\n",
    "#     train_data = data[:boundry]\n",
    "#     test_data = data[boundry:]\n",
    "\n",
    "#     with open('Datasets/CandC-train' + str(i) + '.csv', 'w') as csvfile:\n",
    "#         csvWriter = csv.writer(csvfile, delimiter=',', quotechar='|', quoting=csv.QUOTE_MINIMAL)\n",
    "#         csvWriter.writerows(train_data)\n",
    "\n",
    "#     with open('Datasets/CandC-test' + str(i) + '.csv', 'w') as csvfile:\n",
    "#         csvWriter = csv.writer(csvfile, delimiter=',', quotechar='|', quoting=csv.QUOTE_MINIMAL)\n",
    "#         csvWriter.writerows(test_data)"
   ]
  },
  {
   "cell_type": "markdown",
   "metadata": {},
   "source": [
    "### 4.2"
   ]
  },
  {
   "cell_type": "markdown",
   "metadata": {},
   "source": [
    "Calculate w parameter matrix by using train data"
   ]
  },
  {
   "cell_type": "code",
   "execution_count": 30,
   "metadata": {},
   "outputs": [],
   "source": [
    "import numpy as np\n",
    "import csv\n",
    "\n",
    "def calcW(trainSetPath):\n",
    "    with open(trainSetPath) as csvFile:\n",
    "        trainDataSet = csv.reader(csvFile, delimiter = ',')\n",
    "        inputX = []\n",
    "        outputY = []\n",
    "\n",
    "        for row in trainDataSet:\n",
    "            inputX_temp = []\n",
    "            inputX_temp.append(1.0)\n",
    "            for i in range(5, len(row)-1):\n",
    "                inputX_temp.append(float(row[i]))\n",
    "            inputX.append(inputX_temp)\n",
    "            outputY_temp = []\n",
    "            outputY_temp.append(float(row[len(row)-1]))\n",
    "            outputY.append(outputY_temp)\n",
    "\n",
    "    inputX = np.array(inputX, dtype = 'float')\n",
    "    outputY = np.array(outputY, dtype = 'float')\n",
    "    part1 = np.dot(np.transpose(inputX), inputX)            # xTx\n",
    "    part2 = np.dot(np.transpose(inputX), outputY)           # xTy\n",
    "\n",
    "    w = np.dot(np.linalg.inv(part1), part2)                 # w = (xTx)^-1 dot xTy\n",
    "    return w"
   ]
  },
  {
   "cell_type": "markdown",
   "metadata": {},
   "source": [
    "Calculate MSE"
   ]
  },
  {
   "cell_type": "code",
   "execution_count": 31,
   "metadata": {},
   "outputs": [],
   "source": [
    "def calcMSE(dataSetPath, w):\n",
    "    with open(dataSetPath) as csvFile:\n",
    "        dataSet = csv.reader(csvFile, delimiter = ',')\n",
    "        inputX = []\n",
    "        outputY = []\n",
    "\n",
    "        for row in dataSet:\n",
    "            inputX_temp = []\n",
    "            inputX_temp.append(1.0)\n",
    "            for i in range(5, len(row)-1):\n",
    "                inputX_temp.append(float(row[i]))\n",
    "            inputX.append(inputX_temp)\n",
    "            outputY_temp = []\n",
    "            outputY_temp.append(float(row[len(row)-1]))\n",
    "            outputY.append(outputY_temp)\n",
    "\n",
    "    inputX = np.array(inputX, dtype = 'float')\n",
    "    outputY = np.array(outputY, dtype = 'float')\n",
    "    diff = np.subtract(np.dot(inputX, w), outputY)  # y(x, w) - y(x)\n",
    "    MSE = np.square(diff).mean()\n",
    "    return MSE"
   ]
  },
  {
   "cell_type": "markdown",
   "metadata": {},
   "source": [
    "Calculate MSEs of five different 80-20 splits and averaged MSE"
   ]
  },
  {
   "cell_type": "code",
   "execution_count": 32,
   "metadata": {
    "scrolled": true
   },
   "outputs": [
    {
     "name": "stdout",
     "output_type": "stream",
     "text": [
      "The MSE of number 1 80-20 split is 0.02150754016362869\n",
      "The MSE of number 2 80-20 split is 0.0215948287852376\n",
      "The MSE of number 3 80-20 split is 0.016454247322346405\n",
      "The MSE of number 4 80-20 split is 0.01751138505010865\n",
      "The MSE of number 5 80-20 split is 0.019550013245980245\n",
      "The MSE averaged over 5 different 80-20 splits is 0.01932360291346032\n"
     ]
    }
   ],
   "source": [
    "wSet = []\n",
    "\n",
    "sumMSE = 0.0\n",
    "\n",
    "for i in range(1, 6):\n",
    "    w = calcW('Datasets/CandC-train' + str(i) + '.csv')\n",
    "    wSet.append(w)\n",
    "    MSE = calcMSE('Datasets/CandC-test' + str(i) + '.csv', w)\n",
    "    sumMSE += MSE\n",
    "    print('The MSE of number ' + str(i) + \" 80-20 split is \" + str(MSE))\n",
    "\n",
    "avgMSE = sumMSE/5.0\n",
    "print(\"The MSE averaged over 5 different 80-20 splits is \" + str(avgMSE))\n",
    "\n",
    "#  Wirte average MSE and parameter table to file Assignment1_260561054_4_2 under current directory\n",
    "\n",
    "# data = np.array(wSet)\n",
    "# data = data.T\n",
    "#\n",
    "# # write average MSE\n",
    "# with open('Assignment1_260561054_4_2', 'w') as f:\n",
    "#     f.write(\"The MSE averaged over 5 different 80-20 splits is \" + str(avgMSE) + '\\n')\n",
    "#     f.write('\\n')\n",
    "#     f.write('The parameters learnt for 5 different 80-20 splits are : \\n')\n",
    "#     f.write('\\n')\n",
    "#     for i in range(123):\n",
    "#         for j in range(5):\n",
    "#             f.write(str(data[0][i][j]))\n",
    "#             f.write('\\t')\n",
    "#         f.write('\\n')"
   ]
  },
  {
   "cell_type": "markdown",
   "metadata": {},
   "source": [
    "### 4.3"
   ]
  },
  {
   "cell_type": "markdown",
   "metadata": {},
   "source": [
    "Apply Ridge-Regression and calculae average MSE for different values of λ."
   ]
  },
  {
   "cell_type": "markdown",
   "metadata": {},
   "source": [
    "Here I used 1e-10 < λ < 1e6"
   ]
  },
  {
   "cell_type": "code",
   "execution_count": 33,
   "metadata": {},
   "outputs": [],
   "source": [
    "def calcW_Ridge(trainSetPath, ld):\n",
    "    with open(trainSetPath) as csvFile:\n",
    "        trainDataSet = csv.reader(csvFile, delimiter = ',')\n",
    "        inputX = []\n",
    "        outputY = []\n",
    "\n",
    "        for row in trainDataSet:\n",
    "            inputX_temp = []\n",
    "            inputX_temp.append(1.0)\n",
    "            for i in range(5, len(row)-1):\n",
    "                inputX_temp.append(float(row[i]))\n",
    "            inputX.append(inputX_temp)\n",
    "            outputY_temp = []\n",
    "            outputY_temp.append(float(row[len(row)-1]))\n",
    "            outputY.append(outputY_temp)\n",
    "\n",
    "    inputX = np.array(inputX, dtype = 'float')\n",
    "    outputY = np.array(outputY, dtype = 'float')\n",
    "\n",
    "    part1 = np.dot(np.transpose(inputX), inputX)        # x^Tx\n",
    "    part2 = ld * np.identity(part1.shape[0])            # λI\n",
    "    left = np.linalg.inv(np.add(part1, part2))          # (x^Tx + λI)^(-1)\n",
    "    right = np.dot(np.transpose(inputX), outputY)       # x^Ty\n",
    "\n",
    "    wMatrix_Ridge = np.dot(left, right)\n",
    "\n",
    "    return wMatrix_Ridge"
   ]
  },
  {
   "cell_type": "code",
   "execution_count": 34,
   "metadata": {},
   "outputs": [],
   "source": [
    "def pickLambda():\n",
    "    ld = 1e-10\n",
    "    ld_set = []\n",
    "    MSE_avg = []\n",
    "\n",
    "    while (ld <= 1e6):\n",
    "        MSE_set = []\n",
    "        for i in range(1, 6):\n",
    "            w = calcW_Ridge('Datasets/CandC-train' + str(i) + '.csv', ld)\n",
    "            MSE_set.append(calcMSE('Datasets/CandC-test' + str(i) + '.csv', w))\n",
    "        MSE_avg.append(np.array(MSE_set, dtype='float').mean())\n",
    "        ld_set.append(math.log10(ld))\n",
    "        ld *= 10\n",
    "\n",
    "    printMinLambda(ld_set, MSE_avg)\n",
    "\n",
    "    plt.plot(ld_set, MSE_avg)\n",
    "    plt.title(\"MSE VS λ\")\n",
    "    plt.xlabel(\"ln(λ)\")\n",
    "    plt.ylabel(\"Average MSE\")\n",
    "    plt.show()\n",
    "\n",
    "def printMinLambda(ld_set, MSE_avg):\n",
    "    minLambda = 0.0\n",
    "    minMSE = sys.float_info.max\n",
    "    for i in range(len(MSE_avg)):\n",
    "        minMSE = min(minMSE, MSE_avg[i])\n",
    "        minLambda = 10**ld_set[MSE_avg.index(minMSE)]\n",
    "    print(\"Minimum averaged MSE: \" + str(minMSE) + \"\\n\" + \"λ : \" + str(minLambda))"
   ]
  },
  {
   "cell_type": "markdown",
   "metadata": {},
   "source": [
    "Print the minimum averaged MSE along with it's corresponding λ"
   ]
  },
  {
   "cell_type": "code",
   "execution_count": 35,
   "metadata": {},
   "outputs": [
    {
     "name": "stdout",
     "output_type": "stream",
     "text": [
      "Minimum averaged MSE: 0.018555206975731275\n",
      "λ : 1.0\n"
     ]
    },
    {
     "data": {
      "image/png": "[encoded data removed]",
      "text/plain": [
       "<Figure size 432x288 with 1 Axes>"
      ]
     },
     "metadata": {
      "needs_background": "light"
     },
     "output_type": "display_data"
    }
   ],
   "source": [
    "pickLambda()"
   ]
  },
  {
   "cell_type": "markdown",
   "metadata": {},
   "source": [
    "We can see that λ = 1 gives the best fit, with average MSE = 0.018555206975731275"
   ]
  },
  {
   "cell_type": "markdown",
   "metadata": {},
   "source": [
    "#### Feature Selection"
   ]
  },
  {
   "cell_type": "markdown",
   "metadata": {},
   "source": [
    "We can perform the feature selection by removing the irrelevant features, that is, remove the features that have relative small weight."
   ]
  },
  {
   "cell_type": "markdown",
   "metadata": {},
   "source": [
    "First let's take averages for 5 different weights (parameters learnt) from 5 80-20 splits, sort the value and plot."
   ]
  },
  {
   "cell_type": "code",
   "execution_count": 36,
   "metadata": {},
   "outputs": [
    {
     "data": {
      "image/png": "[encoded data removed]",
      "text/plain": [
       "<Figure size 432x288 with 1 Axes>"
      ]
     },
     "metadata": {
      "needs_background": "light"
     },
     "output_type": "display_data"
    },
    {
     "name": "stdout",
     "output_type": "stream",
     "text": [
      "There are : 28 weights whose value is smaller than 0.02\n"
     ]
    }
   ],
   "source": [
    "wSet = []\n",
    "for i in range(1, 6):\n",
    "    w = calcW_Ridge('Datasets/CandC-train' + str(i) + '.csv', 1.0)\n",
    "    wSet.append(w)\n",
    "\n",
    "data = np.array(wSet)\n",
    "data = data.T\n",
    "\n",
    "w_avg = []\n",
    "for i in range(123):\n",
    "    sum = 0.0\n",
    "    avg = 0.0\n",
    "    for j in range(5):\n",
    "        sum += data[0][i][j]\n",
    "    avg = sum/5\n",
    "    w_avg.append(avg)\n",
    "\n",
    "plt.plot(sorted(w_avg), 'ro')\n",
    "plt.title(\"Averaged Weight of 123 features\")\n",
    "plt.xlabel(\"features\")\n",
    "plt.ylabel(\"Average Weight\")\n",
    "plt.show()\n",
    "\n",
    "w_filter = []\n",
    "for i in range(len(w_avg)):\n",
    "    if (abs(w_avg[i]) < 0.02):\n",
    "        w_filter.append(w_avg[i])\n",
    "\n",
    "print(\"There are : \" + str(len(w_filter)) + \" weights whose value is smaller than 0.02\")"
   ]
  },
  {
   "cell_type": "markdown",
   "metadata": {},
   "source": [
    "From the plot, we can see that the maximum and minimum of weight are around 0.2, thus we can try remove the features whose absolute average weight values are smaller than 0.02. And there are 28 features satisfying this condition."
   ]
  },
  {
   "cell_type": "markdown",
   "metadata": {},
   "source": [
    "The following code will re-calculate the learning parameters by cutting off the irrelevant features."
   ]
  },
  {
   "cell_type": "code",
   "execution_count": 37,
   "metadata": {},
   "outputs": [],
   "source": [
    "index_irre = []\n",
    "for i in range(len(w_filter)):\n",
    "    index_irre.append(w_avg.index(w_filter[i]))"
   ]
  },
  {
   "cell_type": "code",
   "execution_count": 38,
   "metadata": {},
   "outputs": [],
   "source": [
    "def calcW_Ridge_FS(trainSetPath, ld, irre_features):\n",
    "    with open(trainSetPath) as csvFile:\n",
    "        trainDataSet = csv.reader(csvFile, delimiter = ',')\n",
    "        inputX = []\n",
    "        outputY = []\n",
    "\n",
    "        for row in trainDataSet:\n",
    "            inputX_temp = []\n",
    "            inputX_temp.append(1.0)\n",
    "            for i in range(5, len(row)-1):\n",
    "                if (i in irre_features):\n",
    "                    pass\n",
    "                else:\n",
    "                    inputX_temp.append(float(row[i]))\n",
    "            inputX.append(inputX_temp)\n",
    "            outputY_temp = []\n",
    "            outputY_temp.append(float(row[len(row)-1]))\n",
    "            outputY.append(outputY_temp)\n",
    "\n",
    "    inputX = np.array(inputX, dtype = 'float')\n",
    "    outputY = np.array(outputY, dtype = 'float')\n",
    "\n",
    "    part1 = np.dot(np.transpose(inputX), inputX)        # x^Tx\n",
    "    part2 = ld * np.identity(part1.shape[0])            # λI\n",
    "    left = np.linalg.inv(np.add(part1, part2))          # (x^Tx + λI)^(-1)\n",
    "    right = np.dot(np.transpose(inputX), outputY)       # x^Ty\n",
    "\n",
    "    wMatrix_Ridge = np.dot(left, right)\n",
    "\n",
    "    return wMatrix_Ridge"
   ]
  },
  {
   "cell_type": "raw",
   "metadata": {},
   "source": [
    "Re-calculate MSE with reduced features"
   ]
  },
  {
   "cell_type": "code",
   "execution_count": 39,
   "metadata": {},
   "outputs": [],
   "source": [
    "def calcMSE_FS(dataSetPath, w, irre_features):\n",
    "    with open(dataSetPath) as csvFile:\n",
    "        dataSet = csv.reader(csvFile, delimiter = ',')\n",
    "        inputX = []\n",
    "        outputY = []\n",
    "\n",
    "        for row in dataSet:\n",
    "            inputX_temp = []\n",
    "            inputX_temp.append(1.0)\n",
    "            for i in range(5, len(row)-1):\n",
    "                if i in irre_features:\n",
    "                    pass\n",
    "                else:\n",
    "                    inputX_temp.append(float(row[i]))\n",
    "            inputX.append(inputX_temp)\n",
    "            outputY_temp = []\n",
    "            outputY_temp.append(float(row[len(row)-1]))\n",
    "            outputY.append(outputY_temp)\n",
    "\n",
    "    inputX = np.array(inputX, dtype = 'float')\n",
    "    outputY = np.array(outputY, dtype = 'float')\n",
    "    diff = np.subtract(np.dot(inputX, w), outputY)  # y(x, w) - y(x)\n",
    "    MSE = np.square(diff).mean()\n",
    "    return MSE"
   ]
  },
  {
   "cell_type": "code",
   "execution_count": 40,
   "metadata": {},
   "outputs": [
    {
     "name": "stdout",
     "output_type": "stream",
     "text": [
      "The MSE of number 1 80-20 split after Feature Selection is 0.021197538471147765\n",
      "The MSE of number 2 80-20 split after Feature Selection is 0.021157681756650993\n",
      "The MSE of number 3 80-20 split after Feature Selection is 0.01565585150559096\n",
      "The MSE of number 4 80-20 split after Feature Selection is 0.016631568492580198\n",
      "The MSE of number 5 80-20 split after Feature Selection is 0.01966550588669792\n",
      "The MSE averaged over 5 different 80-20 splits after Feature Selection is 0.01886162922253357\n"
     ]
    }
   ],
   "source": [
    "# Calculate MSEs and averaged MSE for 5 different 80-20 splits with reduced features\n",
    "sumMSE = 0.0\n",
    "\n",
    "for i in range(1, 6):\n",
    "    w = calcW_Ridge_FS('Datasets/CandC-train' + str(i) + '.csv', 1.0, index_irre)\n",
    "    MSE = calcMSE_FS('Datasets/CandC-test' + str(i) + '.csv', w, index_irre)\n",
    "    sumMSE += MSE\n",
    "    print('The MSE of number ' + str(i) + \" 80-20 split after Feature Selection is \" + str(MSE))\n",
    "\n",
    "avgMSE = sumMSE/5.0\n",
    "print(\"The MSE averaged over 5 different 80-20 splits after Feature Selection is \" + str(avgMSE))"
   ]
  },
  {
   "cell_type": "markdown",
   "metadata": {},
   "source": [
    "The average MSE before Feature Selection is 0.018555206975731275"
   ]
  },
  {
   "cell_type": "markdown",
   "metadata": {},
   "source": [
    "The average MSE after Feature Selection is 0.01886162922253357"
   ]
  }
 ],
 "metadata": {
  "kernelspec": {
   "display_name": "Python 3",
   "language": "python",
   "name": "python3"
  },
  "language_info": {
   "codemirror_mode": {
    "name": "ipython",
    "version": 3
   },
   "file_extension": ".py",
   "mimetype": "text/x-python",
   "name": "python",
   "nbconvert_exporter": "python",
   "pygments_lexer": "ipython3",
   "version": "3.7.0"
  }
 },
 "nbformat": 4,
 "nbformat_minor": 1
}
